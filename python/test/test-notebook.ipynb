{
 "cells": [
  {
   "cell_type": "markdown",
   "id": "309df093",
   "metadata": {},
   "source": [
    "## Requirements/Libraries"
   ]
  },
  {
   "cell_type": "code",
   "execution_count": 5,
   "id": "755fb392",
   "metadata": {},
   "outputs": [],
   "source": [
    "import requests\n",
    "from owlready2 import *\n",
    "from rdflib import Graph\n",
    "from SPARQLWrapper import SPARQLWrapper, JSON\n",
    "import csv\n",
    "import pandas as pd\n",
    "import owlrl"
   ]
  },
  {
   "cell_type": "markdown",
   "id": "93252a51",
   "metadata": {},
   "source": [
    "## Load an ontology and print 10 classes"
   ]
  },
  {
   "cell_type": "code",
   "execution_count": 7,
   "id": "91513073",
   "metadata": {},
   "outputs": [
    {
     "name": "stdout",
     "output_type": "stream",
     "text": [
      "Classes in Pizza ontology: 100\n",
      "\thttp://www.co-ode.org/ontologies/pizza/pizza.owl#Pizza\n",
      "\thttp://www.co-ode.org/ontologies/pizza/pizza.owl#PizzaBase\n",
      "\thttp://www.co-ode.org/ontologies/pizza/pizza.owl#Food\n",
      "\thttp://www.co-ode.org/ontologies/pizza/pizza.owl#Spiciness\n",
      "\thttp://www.co-ode.org/ontologies/pizza#FoodTopping\n",
      "\thttp://www.co-ode.org/ontologies/pizza/pizza.owl#American\n",
      "\thttp://www.co-ode.org/ontologies/pizza/pizza.owl#NamedPizza\n",
      "\thttp://www.co-ode.org/ontologies/pizza/pizza.owl#MozzarellaTopping\n",
      "\thttp://www.co-ode.org/ontologies/pizza/pizza.owl#PeperoniSausageTopping\n",
      "\n",
      "Test successful!!\n"
     ]
    }
   ],
   "source": [
    "#Load ontology\n",
    "#urionto=\"http://www.cs.ox.ac.uk/isg/ontologies/dbpedia.owl\"\n",
    "onto_reference=\"pizza.owl\"\n",
    "\n",
    "onto = get_ontology(onto_reference).load()\n",
    "\n",
    "print(\"Classes in Pizza ontology: \" + str(len(list(onto.classes()))))\n",
    "\n",
    "#Print 10 classes\n",
    "i=0\n",
    "for cls in onto.classes():\n",
    "    #if \"http://dbpedia.org/ontology/\" in cls.iri:\n",
    "    i=i+1\n",
    "    print(\"\\t\"+cls.iri)\n",
    "    if i==9:\n",
    "        break\n",
    "\n",
    "print(\"\\nTest successful!!\")"
   ]
  },
  {
   "cell_type": "markdown",
   "id": "3f3a1114",
   "metadata": {},
   "source": [
    "## Loads and queries a local RDF Knowledge Graph"
   ]
  },
  {
   "cell_type": "code",
   "execution_count": 9,
   "id": "3b6040d4",
   "metadata": {
    "scrolled": true
   },
   "outputs": [
    {
     "name": "stdout",
     "output_type": "stream",
     "text": [
      "\n",
      "Loading beatles.ttl\n",
      "\n",
      "\n",
      "beatles.ttl has '20' triples.\n",
      "('<http://stardog.com/tutorial/Ringo_Starr>', '<http://www.w3.org/1999/02/22-rdf-syntax-ns#type>', '<http://stardog.com/tutorial/SoloArtist>')\n",
      "('<http://stardog.com/tutorial/The_Beatles>', '<http://stardog.com/tutorial/member>', '<http://stardog.com/tutorial/Ringo_Starr>')\n",
      "('<http://stardog.com/tutorial/The_Beatles>', '<http://www.w3.org/1999/02/22-rdf-syntax-ns#type>', '<http://stardog.com/tutorial/Band>')\n",
      "('<http://stardog.com/tutorial/George_Harrison>', '<http://www.w3.org/1999/02/22-rdf-syntax-ns#type>', '<http://stardog.com/tutorial/SoloArtist>')\n",
      "('<http://stardog.com/tutorial/Please_Please_Me>', '<http://stardog.com/tutorial/name>', '\"Please Please Me\"')\n",
      "('<http://stardog.com/tutorial/Love_Me_Do>', '<http://stardog.com/tutorial/name>', '\"Love Me Do\"')\n",
      "('<http://stardog.com/tutorial/Please_Please_Me>', '<http://stardog.com/tutorial/date>', '\"1963-03-22\"^^<http://www.w3.org/2001/XMLSchema#date>')\n",
      "('<http://stardog.com/tutorial/The_Beatles>', '<http://stardog.com/tutorial/member>', '<http://stardog.com/tutorial/John_Lennon>')\n",
      "('<http://stardog.com/tutorial/Love_Me_Do>', '<http://stardog.com/tutorial/writer>', '<http://stardog.com/tutorial/Paul_McCartney>')\n",
      "('<http://stardog.com/tutorial/Please_Please_Me>', '<http://www.w3.org/1999/02/22-rdf-syntax-ns#type>', '<http://stardog.com/tutorial/Album>')\n",
      "('<http://stardog.com/tutorial/The_Beatles>', '<http://stardog.com/tutorial/member>', '<http://stardog.com/tutorial/George_Harrison>')\n",
      "('<http://stardog.com/tutorial/Love_Me_Do>', '<http://www.w3.org/1999/02/22-rdf-syntax-ns#type>', '<http://stardog.com/tutorial/Song>')\n",
      "('<http://stardog.com/tutorial/The_Beatles>', '<http://stardog.com/tutorial/name>', '\"The Beatles\"')\n",
      "('<http://stardog.com/tutorial/Paul_McCartney>', '<http://www.w3.org/1999/02/22-rdf-syntax-ns#type>', '<http://stardog.com/tutorial/SoloArtist>')\n",
      "('<http://stardog.com/tutorial/Please_Please_Me>', '<http://stardog.com/tutorial/track>', '<http://stardog.com/tutorial/Love_Me_Do>')\n",
      "('<http://stardog.com/tutorial/John_Lennon>', '<http://www.w3.org/1999/02/22-rdf-syntax-ns#type>', '<http://stardog.com/tutorial/SoloArtist>')\n",
      "('<http://stardog.com/tutorial/Please_Please_Me>', '<http://stardog.com/tutorial/artist>', '<http://stardog.com/tutorial/The_Beatles>')\n",
      "('<http://stardog.com/tutorial/Love_Me_Do>', '<http://stardog.com/tutorial/length>', '\"125\"^^<http://www.w3.org/2001/XMLSchema#integer>')\n",
      "('<http://stardog.com/tutorial/Love_Me_Do>', '<http://stardog.com/tutorial/writer>', '<http://stardog.com/tutorial/John_Lennon>')\n",
      "('<http://stardog.com/tutorial/The_Beatles>', '<http://stardog.com/tutorial/member>', '<http://stardog.com/tutorial/Paul_McCartney>')\n",
      "\n",
      "Querying solo artists:\n",
      "http://stardog.com/tutorial/John_Lennon\n",
      "http://stardog.com/tutorial/Paul_McCartney\n",
      "http://stardog.com/tutorial/Ringo_Starr\n",
      "http://stardog.com/tutorial/George_Harrison\n",
      "\n",
      "Test successful!!\n"
     ]
    }
   ],
   "source": [
    "def loadTriples(file, format, print_triples):\n",
    "\n",
    "    #Example from  https://www.stardog.com/tutorials/data-model/\n",
    "   \n",
    "    g = Graph()\n",
    "    g.parse(file, format=format)\n",
    "    \n",
    "    \n",
    "    print(\"\\n\\n\" + file + \" has '\" + str(len(g)) + \"' triples.\")\n",
    "    \n",
    "    \n",
    "    #for stmt in g:    \n",
    "        #print(stmt)\n",
    "        \n",
    "    if print_triples:\n",
    "        for s, p, o in g:\n",
    "            print((s.n3(), p.n3(), o.n3()))\n",
    "        \n",
    "    return g\n",
    "    \n",
    "    \n",
    "def getQueryResults(graph, query):    \n",
    "    qres = graph.query(query)\n",
    "\n",
    "    for row in qres:\n",
    "        print(\"%s\" % row)\n",
    "\n",
    "print(\"\\nLoading beatles.ttl\")\n",
    "graph=loadTriples(\"beatles.ttl\", \"ttl\", True)\n",
    "\n",
    "\n",
    "querySoloArtists = \"\"\"SELECT DISTINCT ?x\n",
    "       WHERE {\n",
    "          ?x rdf:type <http://stardog.com/tutorial/SoloArtist> .\n",
    "       }\"\"\"\n",
    "\n",
    "print(\"\\nQuerying solo artists:\")\n",
    "getQueryResults(graph, querySoloArtists)\n",
    "\n",
    "    \n",
    "print(\"\\nTest successful!!\")"
   ]
  },
  {
   "cell_type": "markdown",
   "id": "1b923acf",
   "metadata": {},
   "source": [
    "## Queries remote Knowledge Graph via its Endpoint"
   ]
  },
  {
   "cell_type": "code",
   "execution_count": 7,
   "id": "39434208",
   "metadata": {},
   "outputs": [
    {
     "name": "stdout",
     "output_type": "stream",
     "text": [
      "\n",
      "Querying DBPedia Knowledge Graph (types of Chicago Bulls)\n",
      "http://www.w3.org/2002/07/owl#Thing\n",
      "http://schema.org/Organization\n",
      "http://schema.org/SportsTeam\n",
      "http://www.ontologydesignpatterns.org/ont/dul/DUL.owl#Agent\n",
      "http://www.ontologydesignpatterns.org/ont/dul/DUL.owl#SocialPerson\n",
      "http://dbpedia.org/ontology/Agent\n",
      "http://www.wikidata.org/entity/Q12973014\n",
      "http://www.wikidata.org/entity/Q24229398\n",
      "http://www.wikidata.org/entity/Q43229\n",
      "http://dbpedia.org/ontology/SportsTeam\n",
      "http://dbpedia.org/class/yago/WikicatBasketballClubsEstablishedIn1966\n",
      "http://dbpedia.org/class/yago/WikicatBasketballTeamsInTheUnitedStates\n",
      "http://dbpedia.org/class/yago/WikicatNationalBasketballAssociationTeams\n",
      "http://dbpedia.org/class/yago/WikicatSportsClubsEstablishedIn1966\n",
      "http://dbpedia.org/class/yago/Abstraction100002137\n",
      "http://dbpedia.org/class/yago/Association108049401\n",
      "http://dbpedia.org/class/yago/BasketballTeam108079852\n",
      "http://dbpedia.org/class/yago/Club108227214\n",
      "http://dbpedia.org/class/yago/Group100031264\n",
      "http://dbpedia.org/class/yago/Organization108008335\n",
      "http://dbpedia.org/class/yago/YagoLegalActor\n",
      "http://dbpedia.org/class/yago/YagoLegalActorGeo\n",
      "http://dbpedia.org/class/yago/YagoPermanentlyLocatedEntity\n",
      "http://dbpedia.org/ontology/BasketballTeam\n",
      "http://dbpedia.org/ontology/Organisation\n",
      "http://dbpedia.org/ontology/SoccerClub\n",
      "http://dbpedia.org/class/yago/SocialGroup107950920\n",
      "http://dbpedia.org/class/yago/Team108208560\n",
      "http://dbpedia.org/class/yago/Unit108189659\n",
      "\n",
      "Test successful!!\n"
     ]
    }
   ],
   "source": [
    "dbpedia_endpoint = \"http://dbpedia.org/sparql\"\n",
    "dbpedia_query = \"\"\"\n",
    "SELECT DISTINCT ?x WHERE { \n",
    "<http://dbpedia.org/resource/Chicago_Bulls> <http://www.w3.org/1999/02/22-rdf-syntax-ns#type> ?x . \n",
    "}\"\"\"\n",
    "\n",
    "sparqlw = SPARQLWrapper(dbpedia_endpoint)        \n",
    "sparqlw.setReturnFormat(JSON)\n",
    "    \n",
    "sparqlw.setQuery(dbpedia_query)\n",
    "            \n",
    "results = sparqlw.query().convert()\n",
    "       \n",
    "#Prints JSON file with results\n",
    "#print(results)\n",
    "                   \n",
    "\n",
    "print(\"\\nQuerying DBPedia Knowledge Graph (types of Chicago Bulls)\")\n",
    "    \n",
    "for result in results[\"results\"][\"bindings\"]:\n",
    "    #Prints individual results \n",
    "    print(result[\"x\"][\"value\"])\n",
    "\n",
    "    \n",
    "print(\"\\nTest successful!!\")"
   ]
  },
  {
   "cell_type": "markdown",
   "id": "1ef0e233-f47b-42a9-9bd6-4d274562444e",
   "metadata": {},
   "source": [
    "## Openning CSV files"
   ]
  },
  {
   "cell_type": "code",
   "execution_count": 10,
   "id": "e777d2ef-6bae-4f4a-8890-475a447af04f",
   "metadata": {},
   "outputs": [
    {
     "name": "stdout",
     "output_type": "stream",
     "text": [
      "\n",
      "Loading using csv library: \n",
      "['Company', 'Founding year', 'Headquarters']\n",
      "['OST', '2017', 'Oxford']\n",
      "['DeepReason.ai', '2018', 'Oxford']\n",
      "['Oxstem', '2011', 'Oxford']\n",
      "['Oxbotica', '2014', 'Oxford']\n",
      "['DeepMind', '2010', 'London']\n",
      "\n",
      "Loading using pandas: \n",
      "OST\n",
      "DeepReason.ai\n",
      "Oxstem\n",
      "Oxbotica\n",
      "DeepMind\n",
      "Pandas(Index=0, Company='OST', _2=2017, Headquarters='Oxford')\n",
      "Pandas(Index=1, Company='DeepReason.ai', _2=2018, Headquarters='Oxford')\n",
      "Pandas(Index=2, Company='Oxstem', _2=2011, Headquarters='Oxford')\n",
      "Pandas(Index=3, Company='Oxbotica', _2=2014, Headquarters='Oxford')\n",
      "Pandas(Index=4, Company='DeepMind', _2=2010, Headquarters='London')\n",
      "\n",
      "Test successful!!\n"
     ]
    }
   ],
   "source": [
    "def using_builtin_libary(file):\n",
    "     \n",
    "     with open(file) as csv_file:\n",
    "            \n",
    "        csv_reader = csv.reader(csv_file, delimiter=',', quotechar='\"', escapechar=\"\\\\\")\n",
    "        \n",
    "        #previous_key=\"\"    \n",
    "        \n",
    "        for row in csv_reader:\n",
    "            print(row)\n",
    "            \n",
    "            \n",
    "            \n",
    "def using_pandas(file):\n",
    "    \n",
    "    data_frame = pd.read_csv(file, sep=',', quotechar='\"',escapechar=\"\\\\\")    \n",
    "    \n",
    "    for cell in data_frame['Company']:\n",
    "        print(cell)\n",
    "    \n",
    "    for row in data_frame.itertuples(index=True, name='Pandas'):\n",
    "        print(row)\n",
    "        \n",
    "\n",
    "\n",
    "\n",
    "print(\"\\nLoading using csv library: \")\n",
    "using_builtin_libary(\"./companies_file.csv\")\n",
    "\n",
    "print(\"\\nLoading using pandas: \")\n",
    "using_pandas(\"./companies_file.csv\")\n",
    "\n",
    "\n",
    "print(\"\\nTest successful!!\")"
   ]
  },
  {
   "cell_type": "markdown",
   "id": "d96762bf-59ff-4f83-96d6-c8c4beb8d279",
   "metadata": {},
   "source": [
    "## Performing OWL RL reasoning"
   ]
  },
  {
   "cell_type": "code",
   "execution_count": 12,
   "id": "3263ff55-9330-4ff9-82cc-6b24d094387b",
   "metadata": {},
   "outputs": [
    {
     "name": "stdout",
     "output_type": "stream",
     "text": [
      "Loaded '27' triples.\n",
      "After inference rules: '1116' triples.\n",
      "\n",
      "Saving extended graph\n",
      "\n",
      "Test successful!!\n"
     ]
    }
   ],
   "source": [
    "def OWLRLInference():\n",
    "    \n",
    "    g = Graph()\n",
    "    \n",
    "    #g.parse(\"http://protege.stanford.edu/ontologies/pizza/pizza.owl\")\n",
    "    g.parse(\"kg-owl2rl.ttl\", format=\"ttl\")\n",
    "    \n",
    "    print(\"Loaded '\" + str(len(g)) + \"' triples.\")\n",
    "    \n",
    "    #Performs OWL 2 RL  reasoning\n",
    "    owlrl.DeductiveClosure(owlrl.OWLRL_Semantics, axiomatic_triples=True, datatype_axioms=False).expand(g)\n",
    "    \n",
    "    \n",
    "    print(\"After inference rules: '\" + str(len(g)) + \"' triples.\")\n",
    "    \n",
    "        \n",
    "    print(\"\\nSaving extended graph\")\n",
    "    g.serialize(destination='kg-owl2rl-extended.ttl', format='ttl')\n",
    "    \n",
    "\n",
    "\n",
    "OWLRLInference()\n",
    "\n",
    "\n",
    "print(\"\\nTest successful!!\")"
   ]
  },
  {
   "cell_type": "code",
   "execution_count": null,
   "id": "e2d5f958-902f-4f58-a942-3bb825ed6b7b",
   "metadata": {},
   "outputs": [],
   "source": []
  }
 ],
 "metadata": {
  "kernelspec": {
   "display_name": "Python 3 (ipykernel)",
   "language": "python",
   "name": "python3"
  },
  "language_info": {
   "codemirror_mode": {
    "name": "ipython",
    "version": 3
   },
   "file_extension": ".py",
   "mimetype": "text/x-python",
   "name": "python",
   "nbconvert_exporter": "python",
   "pygments_lexer": "ipython3",
   "version": "3.10.12"
  }
 },
 "nbformat": 4,
 "nbformat_minor": 5
}
