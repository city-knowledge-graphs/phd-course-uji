{
 "cells": [
  {
   "cell_type": "markdown",
   "id": "038159e3",
   "metadata": {},
   "source": [
    "### Dependencies"
   ]
  },
  {
   "cell_type": "code",
   "execution_count": 6,
   "id": "de46015f",
   "metadata": {},
   "outputs": [],
   "source": [
    "# Lexical similarity libraries\n",
    "import Levenshtein as lev \n",
    "from isub import isub\n",
    "# Look-ups\n",
    "from lookup import DBpediaLookup, WikidataAPI, GoogleKGLookup\n",
    "from endpoints import DBpediaEndpoint, WikidataEndpoint\n",
    "# Ontology processing\n",
    "from owlready2 import *\n",
    "#Shoudl be imported after owlready\n",
    "from rdflib import Graph"
   ]
  },
  {
   "cell_type": "markdown",
   "id": "f94839fe",
   "metadata": {},
   "source": [
    "### Lexical similarity"
   ]
  },
  {
   "cell_type": "code",
   "execution_count": 7,
   "id": "3f9d230f",
   "metadata": {},
   "outputs": [
    {
     "name": "stdout",
     "output_type": "stream",
     "text": [
      "12\n",
      "0.4196078431372549\n",
      "0.8714285714285714\n",
      "0.7272727272727273\n",
      "0.8578947368421053\n"
     ]
    }
   ],
   "source": [
    "print(lev.distance('Congo', 'Republic of Congo'))\n",
    "print(lev.jaro_winkler('Congo', 'Republic of Congo'))\n",
    "print(lev.jaro_winkler('Congo', 'Congo Republic'))\n",
    "print(isub('Congo', 'Republic of Congo'))\n",
    "print(isub('Congo', 'Congo Republic'))"
   ]
  },
  {
   "cell_type": "markdown",
   "id": "ad833ffa",
   "metadata": {},
   "source": [
    "### Look-up services"
   ]
  },
  {
   "cell_type": "code",
   "execution_count": 8,
   "id": "fb64574c",
   "metadata": {},
   "outputs": [
    {
     "name": "stdout",
     "output_type": "stream",
     "text": [
      "Entities from Google KG for the keyword search: United Kingdom\n",
      "kg:/m/07ssc <id: kg:/m/07ssc, label: United Kingdom, description: Country in Europe, types: {'http://schema.org/Place', 'http://schema.org/Country', 'http://schema.org/AdministrativeArea'}, source: GoogleKG>\n",
      "kg:/m/0xnc3 <id: kg:/m/0xnc3, label: Charles III, description: King of the United Kingdom, types: {'http://schema.org/Person'}, source: GoogleKG>\n",
      "kg:/m/0d1_f <id: kg:/m/0d1_f, label: Elizabeth II, description: Former Queen of the United Kingdom, types: {'http://schema.org/Person'}, source: GoogleKG>\n",
      "kg:/m/01vbry <id: kg:/m/01vbry, label: Met Office, description: Government agency, types: {'http://schema.org/Organization', 'http://schema.org/GovernmentOrganization', 'http://schema.org/Corporation', 'http://schema.org/EducationalOrganization'}, source: GoogleKG>\n",
      "kg:/m/08pj55 <id: kg:/m/08pj55, label: HSBC Bank, description: Financial services corporation, types: {'http://schema.org/Organization', 'http://schema.org/Corporation'}, source: GoogleKG>\n"
     ]
    }
   ],
   "source": [
    "query=\"United Kingdom\"\n",
    "#Max entities to be returned\n",
    "limit=5\n",
    "\n",
    "print(\"Entities from Google KG for the keyword search: \" + query)\n",
    "kg = GoogleKGLookup()\n",
    "entities = kg.getKGEntities(query, limit)\n",
    "for ent in  entities:\n",
    "    print(ent.getId(), ent)"
   ]
  },
  {
   "cell_type": "code",
   "execution_count": 9,
   "id": "234938de",
   "metadata": {},
   "outputs": [
    {
     "name": "stdout",
     "output_type": "stream",
     "text": [
      "Entities from DBPedia for the keyword search: United Kingdom\n",
      "http://dbpedia.org/resource/United_Kingdom <id: http://dbpedia.org/resource/United_Kingdom, label: <B>United</B> <B>Kingdom</B>, description: ['The <B>United</B> <B>Kingdom</B> of Great Britain and Northern Ireland, commonly known as the <B>United</B> <B>Kingdom</B> (UK'], types: {'http://dbpedia.org/ontology/Place', 'http://dbpedia.org/ontology/PopulatedPlace', 'http://dbpedia.org/ontology/Country', 'http://dbpedia.org/ontology/Location'}, source: DBpedia>\n",
      "http://dbpedia.org/resource/London <id: http://dbpedia.org/resource/London, label: London, description: ['London is the capital and largest city of England and of the <B>United</B> <B>Kingdom</B>. Standing on the River'], types: {'http://dbpedia.org/ontology/Place', 'http://dbpedia.org/ontology/Settlement', 'http://dbpedia.org/ontology/City', 'http://dbpedia.org/ontology/Location', 'http://dbpedia.org/ontology/PopulatedPlace'}, source: DBpedia>\n",
      "http://dbpedia.org/resource/United_Kingdom_of_Great_Britain_and_Ireland <id: http://dbpedia.org/resource/United_Kingdom_of_Great_Britain_and_Ireland, label: <B>United</B> <B>Kingdom</B> of Great Britain and Ireland, description: [' of Union 1800, which merged the <B>kingdoms</B> of Great Britain and Ireland. The <B>United</B> <B>Kingdom</B>, having'], types: {'http://dbpedia.org/ontology/Place', 'http://dbpedia.org/ontology/PopulatedPlace', 'http://dbpedia.org/ontology/Country', 'http://dbpedia.org/ontology/Location'}, source: DBpedia>\n",
      "http://dbpedia.org/resource/England <id: http://dbpedia.org/resource/England, label: England, description: ['England is a country that is part of the <B>United</B> <B>Kingdom</B>. It shares land borders with Wales'], types: set(), source: DBpedia>\n",
      "http://dbpedia.org/resource/Distinguished_Flying_Cross_(United_Kingdom) <id: http://dbpedia.org/resource/Distinguished_Flying_Cross_(United_Kingdom), label: Distinguished Flying Cross (<B>United</B> <B>Kingdom</B>), description: [\", and since 1993 to other ranks, of the <B>United</B> <B>Kingdom's</B> Royal Air Force and other services\"], types: set(), source: DBpedia>\n"
     ]
    }
   ],
   "source": [
    "dbpedia = DBpediaLookup()\n",
    "entities = dbpedia.getKGEntities(query, limit)\n",
    "print(\"Entities from DBPedia for the keyword search: \" + query)\n",
    "for ent in  entities:\n",
    "    print(ent.getId(), ent)"
   ]
  },
  {
   "cell_type": "code",
   "execution_count": 10,
   "id": "23eac727",
   "metadata": {},
   "outputs": [
    {
     "name": "stdout",
     "output_type": "stream",
     "text": [
      "Entities from Wikidata for the keyword search: United Kingdom\n",
      "http://www.wikidata.org/entity/Q145 <id: http://www.wikidata.org/entity/Q145, label: United Kingdom, description: country in north-west Europe, types: set(), source: Wikidata>\n",
      "http://www.wikidata.org/entity/Q174193 <id: http://www.wikidata.org/entity/Q174193, label: United Kingdom of Great Britain and Ireland, description: historical sovereign state (1801–1922), types: set(), source: Wikidata>\n",
      "http://www.wikidata.org/entity/Q21528200 <id: http://www.wikidata.org/entity/Q21528200, label: A United Kingdom, description: 2016 film by Amma Asante, types: set(), source: Wikidata>\n",
      "http://www.wikidata.org/entity/Q974636 <id: http://www.wikidata.org/entity/Q974636, label: United Kingdom in the Eurovision Song Contest 2010, description: , types: set(), source: Wikidata>\n",
      "http://www.wikidata.org/entity/Q161885 <id: http://www.wikidata.org/entity/Q161885, label: Kingdom of Great Britain, description: constitutional monarchy in Western Europe (1707–1800), types: set(), source: Wikidata>\n"
     ]
    }
   ],
   "source": [
    "wikidata = WikidataAPI()\n",
    "entities = wikidata.getKGEntities(query, limit, \"item\")\n",
    "print(\"Entities from Wikidata for the keyword search: \" + query)\n",
    "for ent in  entities:\n",
    "    print(ent.getId(), ent)"
   ]
  },
  {
   "cell_type": "markdown",
   "id": "9f412125",
   "metadata": {},
   "source": [
    "### SPARQL Endpoints"
   ]
  },
  {
   "cell_type": "code",
   "execution_count": 11,
   "id": "d38ef1e1",
   "metadata": {},
   "outputs": [
    {
     "name": "stdout",
     "output_type": "stream",
     "text": [
      "DBpedia\n",
      "Found 9 types.\n",
      "\t http://dbpedia.org/ontology/Place {'place'}\n",
      "\t http://www.wikidata.org/entity/Q486972 set()\n",
      "\t http://dbpedia.org/ontology/Settlement {'settlement'}\n",
      "\t http://dbpedia.org/ontology/City {'city'}\n",
      "\t http://schema.org/City set()\n",
      "\t http://schema.org/Place set()\n",
      "\t http://www.wikidata.org/entity/Q515 set()\n",
      "\t http://dbpedia.org/ontology/Location set()\n",
      "\t http://dbpedia.org/ontology/PopulatedPlace {'populated place'}\n"
     ]
    }
   ],
   "source": [
    "print(\"DBpedia\")\n",
    "ent=\"http://dbpedia.org/resource/London\"\n",
    "ep = DBpediaEndpoint()\n",
    "types = ep.getTypesForEntity(ent)\n",
    "print(\"Found \" + str(len(types)) + \" types.\")\n",
    "for type in types:\n",
    "    print(\"\\t\", type, ep.getEnglishLabelsForEntity(type))"
   ]
  },
  {
   "cell_type": "code",
   "execution_count": 12,
   "id": "a5d9fb0f",
   "metadata": {},
   "outputs": [
    {
     "name": "stdout",
     "output_type": "stream",
     "text": [
      "Wikidata\n",
      "Found 7 types.\n",
      "\t http://www.wikidata.org/entity/Q174844 {'megacity'}\n",
      "\t http://www.wikidata.org/entity/Q200250 {'Metropolis', 'metropolis'}\n",
      "\t http://www.wikidata.org/entity/Q5119 {'Capital city', 'capital city'}\n",
      "\t http://www.wikidata.org/entity/Q1066984 {'Financial centre', 'financial centre'}\n",
      "\t http://www.wikidata.org/entity/Q515 {'city'}\n",
      "\t http://www.wikidata.org/entity/Q208511 {'global city'}\n",
      "\t http://www.wikidata.org/entity/Q51929311 {'largest city'}\n"
     ]
    }
   ],
   "source": [
    "print(\"Wikidata\")\n",
    "#London\n",
    "ent = \"http://www.wikidata.org/entity/Q84\"\n",
    "ep = WikidataEndpoint()\n",
    "types = ep.getTypesForEntity(ent)\n",
    "print(\"Found \" + str(len(types)) + \" types.\")\n",
    "for type in types:\n",
    "    print(\"\\t\", type, ep.getEnglishLabelsForEntity(type))"
   ]
  },
  {
   "cell_type": "markdown",
   "id": "17d97f4e-cb70-4ed8-83f7-1e17bb561c24",
   "metadata": {},
   "source": [
    "### Methods to get the entity labels"
   ]
  },
  {
   "cell_type": "code",
   "execution_count": 2,
   "id": "898124ba-663b-4322-ade9-dc3e6f454e87",
   "metadata": {},
   "outputs": [],
   "source": [
    "def getClasses(onto):        \n",
    "    return onto.classes()\n",
    "    \n",
    "def getDataProperties(onto):        \n",
    "    return onto.data_properties()\n",
    "    \n",
    "def getObjectProperties(onto):        \n",
    "    return onto.object_properties()\n",
    "    \n",
    "def getIndividuals(onto):    \n",
    "    return onto.individuals()\n",
    "\n",
    "\n",
    "def getRDFSLabelsForEntity(entity):\n",
    "    #if hasattr(entity, \"label\"):\n",
    "    return entity.label\n",
    "\n",
    "\n",
    "def getRDFSLabelsForEntity(entity):\n",
    "    #if hasattr(entity, \"label\"):\n",
    "    return entity.label"
   ]
  },
  {
   "cell_type": "markdown",
   "id": "782662b3-cb68-4ec2-850e-1ec8888dab0a",
   "metadata": {},
   "source": [
    "### Load ontology and print labels"
   ]
  },
  {
   "cell_type": "code",
   "execution_count": 3,
   "id": "c4c84ae8-3646-42c3-a76d-4c754307e1cc",
   "metadata": {},
   "outputs": [
    {
     "name": "stdout",
     "output_type": "stream",
     "text": [
      "Classes in Ontology: 29\n",
      "http://cmt#Meta-Reviewer\n",
      "\tMeta-Reviewer\n",
      "\t[]\n",
      "http://cmt#Reviewer\n",
      "\tReviewer\n",
      "\t[]\n",
      "http://cmt#Decision\n",
      "\tDecision\n",
      "\t[]\n",
      "http://cmt#Person\n",
      "\tPerson\n",
      "\t[]\n",
      "http://cmt#Document\n",
      "\tDocument\n",
      "\t[]\n"
     ]
    }
   ],
   "source": [
    "#Load ontology and print 5 classes with labels\n",
    "\n",
    "#Conference ontologies do not contain rdfs:label but a URI with a readable name\n",
    "urionto=\"data/cmt.owl\"\n",
    "#urionto=\"data/ekaw.owl\"\n",
    "#urionto=\"data/confOf.owl\"\n",
    "\n",
    "#human and mouse contain rdfs:label but the URI has a concept ID\n",
    "#urionto=\"data/human.owl\"\n",
    "#urionto=\"data/mouse.owl\n",
    "\n",
    "\n",
    "#Method from owlready\n",
    "onto = get_ontology(urionto).load()\n",
    "    \n",
    "print(\"Classes in Ontology: \" + str(len(list(getClasses(onto)))))\n",
    "i=0\n",
    "for cls in getClasses(onto):\n",
    "    i+=1\n",
    "    #Name of entity in URI. But in some cases it may be a \n",
    "    #code like in mouse and human anatomy ontologies                \n",
    "    print(cls.iri)\n",
    "    print(\"\\t\"+cls.name)  \n",
    "    #Labels from RDFS label\n",
    "    print(\"\\t\"+str(getRDFSLabelsForEntity(cls)))\n",
    "    \n",
    "    if i==5:\n",
    "        break"
   ]
  },
  {
   "cell_type": "markdown",
   "id": "a82cdfa2-25a1-4ce9-91dd-e71a14bf9878",
   "metadata": {},
   "source": [
    "### Method to compute Precision and Recall"
   ]
  },
  {
   "cell_type": "code",
   "execution_count": 4,
   "id": "29739af3-605b-46cc-9d3f-e7f8bed21397",
   "metadata": {},
   "outputs": [],
   "source": [
    "def compareWithReference(reference_mappings_file, system_mappings_file):\n",
    "    ref_mappings = Graph()\n",
    "    ref_mappings.parse(reference_mappings_file, format=\"ttl\")\n",
    "    \n",
    "    system_mappings = Graph()\n",
    "    system_mappings.parse(system_mappings_file, format=\"ttl\")\n",
    "    \n",
    "    \n",
    "    #We calculate precision and recall via true positives, false positives and false negatives\n",
    "    #https://en.wikipedia.org/wiki/Precision_and_recall        \n",
    "    tp=0\n",
    "    fp=0\n",
    "    fn=0\n",
    "    \n",
    "    for t in system_mappings:\n",
    "        if t in ref_mappings:\n",
    "            tp+=1\n",
    "        else:\n",
    "            fp+=1\n",
    "\n",
    "    \n",
    "    for t in ref_mappings:\n",
    "        if not t in system_mappings:\n",
    "            fn+=1\n",
    "            \n",
    "            \n",
    "    precision = tp/(tp+fp)\n",
    "    recall = tp/(tp+fn)\n",
    "    f_score = (2*precision*recall)/(precision+recall)\n",
    "    #print(tp, tp2)\n",
    "    #print(fp)\n",
    "    #print(fn)\n",
    "    print(\"Comparing '\" + system_mappings_file + \"' with '\" + reference_mappings_file)\n",
    "    print(\"\\tPrecision: \" + str(precision))\n",
    "    print(\"\\tRecall: \" + str(recall))\n",
    "    print(\"\\tF-Score: \" + str(f_score))"
   ]
  },
  {
   "cell_type": "markdown",
   "id": "44da1905-37f3-4de5-858b-e3f856652b9f",
   "metadata": {},
   "source": [
    "### Check results"
   ]
  },
  {
   "cell_type": "code",
   "execution_count": 5,
   "id": "0208aa2b-eaed-4c1e-b09a-e0429d05f4e0",
   "metadata": {},
   "outputs": [
    {
     "name": "stdout",
     "output_type": "stream",
     "text": [
      "Comparing 'data/anatomy-example-system-mappings.ttl' with 'data/anatomy-reference-mappings.ttl\n",
      "\tPrecision: 0.8537434706906558\n",
      "\tRecall: 0.9703166226912929\n",
      "\tF-Score: 0.9083050324174129\n"
     ]
    }
   ],
   "source": [
    "reference_mappings=\"data/anatomy-reference-mappings.ttl\"\n",
    "system_mappings=\"data/anatomy-example-system-mappings.ttl\"\n",
    "\n",
    "#P, R, and F can only be obtained if a reference alignment exists.    \n",
    "compareWithReference(reference_mappings, system_mappings)\n",
    "\n",
    "# For the lab you should compare, for example, \n",
    "# cmt-confOf-reference.ttl with the cmt-confOf-your-system.ttl you generate.\n",
    "# compareWithReference(\"cmt-confOf-reference.ttl\", \"cmt-confOf-your-system.ttl\")"
   ]
  },
  {
   "cell_type": "code",
   "execution_count": null,
   "id": "96d5662a-71db-4756-b31e-e4f0f74c6635",
   "metadata": {},
   "outputs": [],
   "source": []
  }
 ],
 "metadata": {
  "kernelspec": {
   "display_name": "Python 3 (ipykernel)",
   "language": "python",
   "name": "python3"
  },
  "language_info": {
   "codemirror_mode": {
    "name": "ipython",
    "version": 3
   },
   "file_extension": ".py",
   "mimetype": "text/x-python",
   "name": "python",
   "nbconvert_exporter": "python",
   "pygments_lexer": "ipython3",
   "version": "3.10.12"
  }
 },
 "nbformat": 4,
 "nbformat_minor": 5
}
